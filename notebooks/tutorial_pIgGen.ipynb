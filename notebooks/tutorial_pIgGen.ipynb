{
 "cells": [
  {
   "cell_type": "markdown",
   "id": "0243263d",
   "metadata": {},
   "source": [
    "# How to Train an Antibody Developability Model\n",
    "\n",
    "### (with foundation model embeddings)"
   ]
  },
  {
   "cell_type": "markdown",
   "id": "dfa62d60",
   "metadata": {},
   "source": [
    "## Introduction\n",
    "\n",
    "Antibody development is the process of engineering therapeutic antibodies with desirable **biophysical properties** such as high expression, stability, and low aggregation propensity.  \n",
    "Unlike simple point mutations in proteins, antibody optimization is especially complex: the pairing of **VH (variable heavy)** and **VL (variable light)** domains creates a vast combinatorial space where even small changes can dramatically alter folding, binding, or developability.  \n",
    "\n",
    "Predicting these effects experimentally is costly and time-consuming, which is why **machine learning on antibody sequence data** has become such an important tool. By learning representations of antibody sequences, protein language models can capture sequence–structure–function relationships that help guide design choices.\n",
    "\n",
    "<p align=\"center\">\n",
    "  <img src=\"https://cdn-uploads.huggingface.co/production/uploads/66df5f0644a0a0d033c50463/lRPvjjJr-7UFNDWlG-7aY.png\" alt=\"My Image\" style=\"width:75%;\"/>\n",
    "</p>"
   ]
  },
  {
   "cell_type": "code",
   "execution_count": 24,
   "id": "349af83a",
   "metadata": {},
   "outputs": [],
   "source": [
    "## first things first, imports\n",
    "\n",
    "from datasets import load_dataset\n",
    "import matplotlib.pyplot as plt\n",
    "import numpy as np\n",
    "from scipy.stats import spearmanr\n",
    "import seaborn as sns\n",
    "from sklearn.linear_model import Ridge\n",
    "from sklearn.model_selection import train_test_split\n",
    "import torch\n",
    "from tqdm.auto import tqdm\n",
    "import pandas as pd\n",
    "from transformers import AutoModelForCausalLM, AutoTokenizer"
   ]
  },
  {
   "cell_type": "markdown",
   "id": "7bc00186",
   "metadata": {},
   "source": [
    "### This Dataset\n",
    "\n",
    "The [GDPa1](https://huggingface.co/datasets/ginkgo-datapoints/GDPa1) dataset provides paired VH/VL antibody sequences with experimentally measured **developability assays**, including expression yield, hydrophobicity, stability, and self-interaction.  \n",
    "This makes it a valuable benchmark for testing whether protein language models like **p-IgGen** can generate embeddings that generalize across assays and predict developability outcomes.  \n",
    "\n",
    "In the sections below, we demonstrate how to:\n",
    "- Embed VH/VL pairs with p-IgGen,  \n",
    "- Train simple regression models on different assay targets, and  \n",
    "- Evaluate generalization with **cluster- and isotype-aware cross-validation**.  "
   ]
  },
  {
   "cell_type": "code",
   "execution_count": 12,
   "id": "d7d3a73e",
   "metadata": {},
   "outputs": [
    {
     "data": {
      "text/html": [
       "<div>\n",
       "<style scoped>\n",
       "    .dataframe tbody tr th:only-of-type {\n",
       "        vertical-align: middle;\n",
       "    }\n",
       "\n",
       "    .dataframe tbody tr th {\n",
       "        vertical-align: top;\n",
       "    }\n",
       "\n",
       "    .dataframe thead th {\n",
       "        text-align: right;\n",
       "    }\n",
       "</style>\n",
       "<table border=\"1\" class=\"dataframe\">\n",
       "  <thead>\n",
       "    <tr style=\"text-align: right;\">\n",
       "      <th></th>\n",
       "      <th>antibody_id</th>\n",
       "      <th>antibody_name</th>\n",
       "      <th>Titer</th>\n",
       "      <th>Purity</th>\n",
       "      <th>SEC %Monomer</th>\n",
       "      <th>SMAC</th>\n",
       "      <th>HIC</th>\n",
       "      <th>HAC</th>\n",
       "      <th>PR_CHO</th>\n",
       "      <th>PR_Ova</th>\n",
       "      <th>...</th>\n",
       "      <th>hc_protein_sequence</th>\n",
       "      <th>hc_dna_sequence</th>\n",
       "      <th>vl_protein_sequence</th>\n",
       "      <th>lc_protein_sequence</th>\n",
       "      <th>lc_dna_sequence</th>\n",
       "      <th>hierarchical_cluster_fold</th>\n",
       "      <th>random_fold</th>\n",
       "      <th>hierarchical_cluster_IgG_isotype_stratified_fold</th>\n",
       "      <th>light_aligned_aho</th>\n",
       "      <th>heavy_aligned_aho</th>\n",
       "    </tr>\n",
       "  </thead>\n",
       "  <tbody>\n",
       "    <tr>\n",
       "      <th>0</th>\n",
       "      <td>GDPa1-001</td>\n",
       "      <td>abagovomab</td>\n",
       "      <td>140.25</td>\n",
       "      <td>98.530</td>\n",
       "      <td>97.010</td>\n",
       "      <td>2.730</td>\n",
       "      <td>2.590</td>\n",
       "      <td>NaN</td>\n",
       "      <td>0.337837</td>\n",
       "      <td>0.263108</td>\n",
       "      <td>...</td>\n",
       "      <td>MRAWIFFLLCLAGRALAQVKLQESGAELARPGASVKLSCKASGYTF...</td>\n",
       "      <td>GCCGCCACCATGAGAGCCTGGATCTTTTTCCTGCTGTGCCTGGCTG...</td>\n",
       "      <td>DIELTQSPASLSASVGETVTITCQASENIYSYLAWHQQKQGKSPQL...</td>\n",
       "      <td>MRAWIFFLLCLAGRALADIELTQSPASLSASVGETVTITCQASENI...</td>\n",
       "      <td>GCCGCCACCATGAGAGCCTGGATCTTTTTCCTGCTGTGCCTGGCTG...</td>\n",
       "      <td>1</td>\n",
       "      <td>2</td>\n",
       "      <td>2</td>\n",
       "      <td>DIELTQSPASLSASVGETVTITCQAS--ENIY------SYLAWHQQ...</td>\n",
       "      <td>QVKLQES-GAELARPGASVKLSCKASG-YTFTN-----YWMQWVKQ...</td>\n",
       "    </tr>\n",
       "    <tr>\n",
       "      <th>1</th>\n",
       "      <td>GDPa1-002</td>\n",
       "      <td>abituzumab</td>\n",
       "      <td>193.31</td>\n",
       "      <td>99.825</td>\n",
       "      <td>97.620</td>\n",
       "      <td>2.745</td>\n",
       "      <td>2.545</td>\n",
       "      <td>3.690</td>\n",
       "      <td>0.205246</td>\n",
       "      <td>0.100155</td>\n",
       "      <td>...</td>\n",
       "      <td>MRAWIFFLLCLAGRALAQVQLQQSGGELAKPGASVKVSCKASGYTF...</td>\n",
       "      <td>GCCGCCACCATGAGAGCCTGGATCTTTTTCCTGCTGTGCCTGGCTG...</td>\n",
       "      <td>DIQMTQSPSSLSASVGDRVTITCRASQDISNYLAWYQQKPGKAPKL...</td>\n",
       "      <td>MRAWIFFLLCLAGRALADIQMTQSPSSLSASVGDRVTITCRASQDI...</td>\n",
       "      <td>GCCGCCACCATGAGAGCCTGGATCTTTTTCCTGCTGTGCCTGGCTG...</td>\n",
       "      <td>1</td>\n",
       "      <td>4</td>\n",
       "      <td>0</td>\n",
       "      <td>DIQMTQSPSSLSASVGDRVTITCRAS--QDIS------NYLAWYQQ...</td>\n",
       "      <td>QVQLQQS-GGELAKPGASVKVSCKASG-YTFSS-----FWMHWVRQ...</td>\n",
       "    </tr>\n",
       "    <tr>\n",
       "      <th>2</th>\n",
       "      <td>GDPa1-003</td>\n",
       "      <td>abrezekimab</td>\n",
       "      <td>114.75</td>\n",
       "      <td>98.350</td>\n",
       "      <td>89.055</td>\n",
       "      <td>2.740</td>\n",
       "      <td>2.705</td>\n",
       "      <td>NaN</td>\n",
       "      <td>0.138773</td>\n",
       "      <td>0.101180</td>\n",
       "      <td>...</td>\n",
       "      <td>MRAWIFFLLCLAGRALAQVTLKESGPVLVKPTETLTLTCTVSGFSL...</td>\n",
       "      <td>GCCGCCACCATGAGAGCCTGGATCTTTTTCCTGCTGTGCCTGGCTG...</td>\n",
       "      <td>DIQMTQSPSSLSASVGDRVTITCLASEDISNYLAWYQQKPGKAPKL...</td>\n",
       "      <td>MRAWIFFLLCLAGRALADIQMTQSPSSLSASVGDRVTITCLASEDI...</td>\n",
       "      <td>GCCGCCACCATGAGAGCCTGGATCTTTTTCCTGCTGTGCCTGGCTG...</td>\n",
       "      <td>2</td>\n",
       "      <td>2</td>\n",
       "      <td>2</td>\n",
       "      <td>DIQMTQSPSSLSASVGDRVTITCLAS--EDIS------NYLAWYQQ...</td>\n",
       "      <td>QVTLKES-GPVLVKPTETLTLTCTVSG-FSLTN-----YHVQWIRQ...</td>\n",
       "    </tr>\n",
       "    <tr>\n",
       "      <th>3</th>\n",
       "      <td>GDPa1-004</td>\n",
       "      <td>abrilumab</td>\n",
       "      <td>327.32</td>\n",
       "      <td>98.575</td>\n",
       "      <td>98.605</td>\n",
       "      <td>2.715</td>\n",
       "      <td>2.565</td>\n",
       "      <td>1.005</td>\n",
       "      <td>0.000000</td>\n",
       "      <td>0.054971</td>\n",
       "      <td>...</td>\n",
       "      <td>MRAWIFFLLCLAGRALAQVQLVQSGAEVKKPGASVKVSCKVSGYTL...</td>\n",
       "      <td>GCCGCCACCATGAGAGCCTGGATCTTTTTCCTGCTGTGCCTGGCTG...</td>\n",
       "      <td>DIQMTQSPSSVSASVGDRVTITCRASQGISSWLAWYQQKPGKAPKL...</td>\n",
       "      <td>MRAWIFFLLCLAGRALADIQMTQSPSSVSASVGDRVTITCRASQGI...</td>\n",
       "      <td>GCCGCCACCATGAGAGCCTGGATCTTTTTCCTGCTGTGCCTGGCTG...</td>\n",
       "      <td>1</td>\n",
       "      <td>3</td>\n",
       "      <td>0</td>\n",
       "      <td>DIQMTQSPSSVSASVGDRVTITCRAS--QGIS------SWLAWYQQ...</td>\n",
       "      <td>QVQLVQS-GAEVKKPGASVKVSCKVSG-YTLSD-----LSIHWVRQ...</td>\n",
       "    </tr>\n",
       "    <tr>\n",
       "      <th>4</th>\n",
       "      <td>GDPa1-005</td>\n",
       "      <td>adalimumab</td>\n",
       "      <td>313.39</td>\n",
       "      <td>99.300</td>\n",
       "      <td>96.120</td>\n",
       "      <td>2.705</td>\n",
       "      <td>2.495</td>\n",
       "      <td>NaN</td>\n",
       "      <td>0.183387</td>\n",
       "      <td>0.085628</td>\n",
       "      <td>...</td>\n",
       "      <td>MRAWIFFLLCLAGRALAEVQLVESGGGLVQPGRSLRLSCAASGFTF...</td>\n",
       "      <td>GCCGCCACCATGAGAGCCTGGATCTTTTTCCTGCTGTGCCTGGCTG...</td>\n",
       "      <td>DIQMTQSPSSLSASVGDRVTITCRASQGIRNYLAWYQQKPGKAPKL...</td>\n",
       "      <td>MRAWIFFLLCLAGRALADIQMTQSPSSLSASVGDRVTITCRASQGI...</td>\n",
       "      <td>GCCGCCACCATGAGAGCCTGGATCTTTTTCCTGCTGTGCCTGGCTG...</td>\n",
       "      <td>0</td>\n",
       "      <td>2</td>\n",
       "      <td>0</td>\n",
       "      <td>DIQMTQSPSSLSASVGDRVTITCRAS--QGIR------NYLAWYQQ...</td>\n",
       "      <td>EVQLVES-GGGLVQPGRSLRLSCAASG-FTFDD-----YAMHWVRQ...</td>\n",
       "    </tr>\n",
       "  </tbody>\n",
       "</table>\n",
       "<p>5 rows × 30 columns</p>\n",
       "</div>"
      ],
      "text/plain": [
       "  antibody_id antibody_name   Titer  Purity  SEC %Monomer   SMAC    HIC  \\\n",
       "0   GDPa1-001    abagovomab  140.25  98.530        97.010  2.730  2.590   \n",
       "1   GDPa1-002    abituzumab  193.31  99.825        97.620  2.745  2.545   \n",
       "2   GDPa1-003   abrezekimab  114.75  98.350        89.055  2.740  2.705   \n",
       "3   GDPa1-004     abrilumab  327.32  98.575        98.605  2.715  2.565   \n",
       "4   GDPa1-005    adalimumab  313.39  99.300        96.120  2.705  2.495   \n",
       "\n",
       "     HAC    PR_CHO    PR_Ova  ...  \\\n",
       "0    NaN  0.337837  0.263108  ...   \n",
       "1  3.690  0.205246  0.100155  ...   \n",
       "2    NaN  0.138773  0.101180  ...   \n",
       "3  1.005  0.000000  0.054971  ...   \n",
       "4    NaN  0.183387  0.085628  ...   \n",
       "\n",
       "                                 hc_protein_sequence  \\\n",
       "0  MRAWIFFLLCLAGRALAQVKLQESGAELARPGASVKLSCKASGYTF...   \n",
       "1  MRAWIFFLLCLAGRALAQVQLQQSGGELAKPGASVKVSCKASGYTF...   \n",
       "2  MRAWIFFLLCLAGRALAQVTLKESGPVLVKPTETLTLTCTVSGFSL...   \n",
       "3  MRAWIFFLLCLAGRALAQVQLVQSGAEVKKPGASVKVSCKVSGYTL...   \n",
       "4  MRAWIFFLLCLAGRALAEVQLVESGGGLVQPGRSLRLSCAASGFTF...   \n",
       "\n",
       "                                     hc_dna_sequence  \\\n",
       "0  GCCGCCACCATGAGAGCCTGGATCTTTTTCCTGCTGTGCCTGGCTG...   \n",
       "1  GCCGCCACCATGAGAGCCTGGATCTTTTTCCTGCTGTGCCTGGCTG...   \n",
       "2  GCCGCCACCATGAGAGCCTGGATCTTTTTCCTGCTGTGCCTGGCTG...   \n",
       "3  GCCGCCACCATGAGAGCCTGGATCTTTTTCCTGCTGTGCCTGGCTG...   \n",
       "4  GCCGCCACCATGAGAGCCTGGATCTTTTTCCTGCTGTGCCTGGCTG...   \n",
       "\n",
       "                                 vl_protein_sequence  \\\n",
       "0  DIELTQSPASLSASVGETVTITCQASENIYSYLAWHQQKQGKSPQL...   \n",
       "1  DIQMTQSPSSLSASVGDRVTITCRASQDISNYLAWYQQKPGKAPKL...   \n",
       "2  DIQMTQSPSSLSASVGDRVTITCLASEDISNYLAWYQQKPGKAPKL...   \n",
       "3  DIQMTQSPSSVSASVGDRVTITCRASQGISSWLAWYQQKPGKAPKL...   \n",
       "4  DIQMTQSPSSLSASVGDRVTITCRASQGIRNYLAWYQQKPGKAPKL...   \n",
       "\n",
       "                                 lc_protein_sequence  \\\n",
       "0  MRAWIFFLLCLAGRALADIELTQSPASLSASVGETVTITCQASENI...   \n",
       "1  MRAWIFFLLCLAGRALADIQMTQSPSSLSASVGDRVTITCRASQDI...   \n",
       "2  MRAWIFFLLCLAGRALADIQMTQSPSSLSASVGDRVTITCLASEDI...   \n",
       "3  MRAWIFFLLCLAGRALADIQMTQSPSSVSASVGDRVTITCRASQGI...   \n",
       "4  MRAWIFFLLCLAGRALADIQMTQSPSSLSASVGDRVTITCRASQGI...   \n",
       "\n",
       "                                     lc_dna_sequence  \\\n",
       "0  GCCGCCACCATGAGAGCCTGGATCTTTTTCCTGCTGTGCCTGGCTG...   \n",
       "1  GCCGCCACCATGAGAGCCTGGATCTTTTTCCTGCTGTGCCTGGCTG...   \n",
       "2  GCCGCCACCATGAGAGCCTGGATCTTTTTCCTGCTGTGCCTGGCTG...   \n",
       "3  GCCGCCACCATGAGAGCCTGGATCTTTTTCCTGCTGTGCCTGGCTG...   \n",
       "4  GCCGCCACCATGAGAGCCTGGATCTTTTTCCTGCTGTGCCTGGCTG...   \n",
       "\n",
       "  hierarchical_cluster_fold random_fold  \\\n",
       "0                         1           2   \n",
       "1                         1           4   \n",
       "2                         2           2   \n",
       "3                         1           3   \n",
       "4                         0           2   \n",
       "\n",
       "  hierarchical_cluster_IgG_isotype_stratified_fold  \\\n",
       "0                                                2   \n",
       "1                                                0   \n",
       "2                                                2   \n",
       "3                                                0   \n",
       "4                                                0   \n",
       "\n",
       "                                   light_aligned_aho  \\\n",
       "0  DIELTQSPASLSASVGETVTITCQAS--ENIY------SYLAWHQQ...   \n",
       "1  DIQMTQSPSSLSASVGDRVTITCRAS--QDIS------NYLAWYQQ...   \n",
       "2  DIQMTQSPSSLSASVGDRVTITCLAS--EDIS------NYLAWYQQ...   \n",
       "3  DIQMTQSPSSVSASVGDRVTITCRAS--QGIS------SWLAWYQQ...   \n",
       "4  DIQMTQSPSSLSASVGDRVTITCRAS--QGIR------NYLAWYQQ...   \n",
       "\n",
       "                                   heavy_aligned_aho  \n",
       "0  QVKLQES-GAELARPGASVKLSCKASG-YTFTN-----YWMQWVKQ...  \n",
       "1  QVQLQQS-GGELAKPGASVKVSCKASG-YTFSS-----FWMHWVRQ...  \n",
       "2  QVTLKES-GPVLVKPTETLTLTCTVSG-FSLTN-----YHVQWIRQ...  \n",
       "3  QVQLVQS-GAEVKKPGASVKVSCKVSG-YTLSD-----LSIHWVRQ...  \n",
       "4  EVQLVES-GGGLVQPGRSLRLSCAASG-FTFDD-----YAMHWVRQ...  \n",
       "\n",
       "[5 rows x 30 columns]"
      ]
     },
     "execution_count": 12,
     "metadata": {},
     "output_type": "execute_result"
    }
   ],
   "source": [
    "model_name = \"ollieturnbull/p-IgGen\" # our foundation model\n",
    "df = load_dataset(\"ginkgo-datapoints/GDPa1\")[\"train\"].to_pandas()\n",
    "df.head()"
   ]
  },
  {
   "cell_type": "markdown",
   "id": "8955c111",
   "metadata": {},
   "source": [
    "## Quick Primer\n",
    "### Antibody Sequences: VH and VL\n",
    "Antibodies are Y-shaped proteins built from two chains:\n",
    "- **VH (Variable Heavy)**: the heavy-chain variable region that contributes to antigen binding.  \n",
    "- **VL (Variable Light)**: the light-chain variable region that pairs with VH to form the complete binding site.  \n",
    "\n",
    "Together, VH and VL encode the amino acid sequences that define an antibody’s specificity and biochemical properties.  \n",
    "In this dataset, each row includes both VH and VL sequences for a given antibody.  \n",
    "\n",
    "\n",
    "![image/png](https://cdn-uploads.huggingface.co/production/uploads/66df5f0644a0a0d033c50463/PIjgj1bK2YxyIZ1rj1M8S.png)\n",
    "*Image from https://www.antibody-creativebiolabs.com/antibody-structure-isotypes.htm*\n",
    "\n",
    "### Available Properties\n",
    "\n",
    "Each antibody has associated experimental measurements across 5 assays (not all measurements are available for every sequence):\n",
    "\n",
    "- **Titer**: Expression yield of the antibody in mammalian cells.  \n",
    "- **HIC** (*Hydrophobic Interaction Chromatography*): A proxy for hydrophobicity and aggregation propensity.  \n",
    "- **PR_CHO**: Polyreactivity in CHO (*Chinese hamster ovary*) cells - this measures how much an antibody binds to other proteins that it's not supposed to.\n",
    "- **Tm2**: Thermal stability (melting temperature of the CH2 domain).  \n",
    "- **AC-SINS_pH7.4**: Self-interaction propensity (higher values often correlate with poor developability).\n",
    "\n",
    "\n",
    "### A Note on Isotype Effects\n",
    "The antibodies in this GDPa1 dataset have different IgG subclasses (IgG1, IgG2, IgG4). Some of the measurements, such as  **thermal stability** (Tm2), are strongly influenced by the antibody’s **isotype**. Different IgG subclasses (e.g., IgG1, IgG2, IgG4) have systematic differences in CH2 domain stability, which can overshadow subtle sequence-level variation---so consider including the subclass as a feature in your models! To illustrate this, we can make a simple boxplot of `Tm2` values grouped by isotype."
   ]
  },
  {
   "cell_type": "code",
   "execution_count": 10,
   "id": "a4648fa8",
   "metadata": {},
   "outputs": [
    {
     "data": {
      "image/png": "[encoded data removed]",
      "text/plain": [
       "<Figure size 600x400 with 1 Axes>"
      ]
     },
     "metadata": {},
     "output_type": "display_data"
    }
   ],
   "source": [
    "plt.figure(figsize=(6,4))\n",
    "sns.boxplot(data=df, x=\"hc_subtype\", y=\"Tm2\")\n",
    "plt.title(\"Distribution of Tm2 scores by antibody isotype\")\n",
    "plt.xlabel(\"Isotype\")\n",
    "plt.ylabel(\"Tm2 (°C)\")\n",
    "plt.show()"
   ]
  },
  {
   "cell_type": "markdown",
   "id": "10bae735",
   "metadata": {},
   "source": [
    "## Let's go!\n",
    "\n",
    "In this tutorial, we select one target at a time (e.g., `HIC`) and train a simple linear model on pooled sequence embeddings to assess predictivity.  \n",
    "\n",
    "We start by importing the core libraries for data handling, visualization, statistics, and modeling. Using Hugging Face Datasets, we load the **GDPa1** dataset into a Pandas DataFrame, inspect the available assay columns, and check for missing values. For this tutorial, we select a single developability target (here `\"HIC\"`, though others like `\"Titer\"` could also be chosen) and drop rows with missing measurements so that the dataset is ready for model training and evaluation."
   ]
  },
  {
   "cell_type": "code",
   "execution_count": 15,
   "id": "6ae5d648",
   "metadata": {},
   "outputs": [
    {
     "name": "stdout",
     "output_type": "stream",
     "text": [
      "Titer             3\n",
      "HIC               0\n",
      "PR_CHO           45\n",
      "Tm2              49\n",
      "AC-SINS_pH7.4     0\n",
      "dtype: int64\n"
     ]
    }
   ],
   "source": [
    "# Show number of NaNs per assay\n",
    "print(df[[\"Titer\", \"HIC\", \"PR_CHO\", \"Tm2\", 'AC-SINS_pH7.4']].isna().sum())\n",
    "target = \"HIC\"\n",
    "\n",
    "# Example: Just predict HIC, so we'll drop NaN rows for that\n",
    "df = df.dropna(subset=[target])"
   ]
  },
  {
   "cell_type": "markdown",
   "id": "8e839ddd",
   "metadata": {},
   "source": [
    "The VH and VL protein sequences for each antibody are combined into a single tokenized string input for **p-IgGen**. We prepend a `\"1\"` token at the start and append a `\"2\"` token at the end to mark sequence boundaries."
   ]
  },
  {
   "cell_type": "code",
   "execution_count": 16,
   "id": "273c95b5",
   "metadata": {},
   "outputs": [
    {
     "name": "stdout",
     "output_type": "stream",
     "text": [
      "1Q V K L Q E S G A E L A R P G A S V K L S C K A S G Y T F T N Y W M Q W V K Q R P G Q G L D W I G A I Y P G D G N T R Y T H K F K G K A T L T A D K S S S T A Y M Q L S S L A S E D S G V Y Y C A R G E G N Y A W F A Y W G Q G T T V T V S SD I E L T Q S P A S L S A S V G E T V T I T C Q A S E N I Y S Y L A W H Q Q K Q G K S P Q L L V Y N A K T L A G G V S S R F S G S G S G T H F S L K I K S L Q P E D F G I Y Y C Q H H Y G I L P T F G G G T K L E I K2\n"
     ]
    }
   ],
   "source": [
    "# Tokenize the sequences\n",
    "tokenizer = AutoTokenizer.from_pretrained(model_name)\n",
    "\n",
    "# Paired sequence handling: Concatenate heavy and light chains and add beginning (\"1\") and end (\"2\") tokens\n",
    "# (e.g. [\"EVQLV...\", \"DIQMT...\"] -> \"1E V Q L V ... D I Q M T ... 2\")\n",
    "sequences = [\n",
    "    \"1\" + \" \".join(heavy) + \" \".join(light) + \"2\"\n",
    "    for heavy, light in zip(\n",
    "        df[\"vh_protein_sequence\"],\n",
    "        df[\"vl_protein_sequence\"],\n",
    "    )\n",
    "]\n",
    "\n",
    "print(sequences[0])"
   ]
  },
  {
   "cell_type": "markdown",
   "id": "319ce1da",
   "metadata": {},
   "source": [
    "We load the p-IgGen model and pass in batches of tokenized VH/VL sequences to obtain hidden-state embeddings. For each sequence, we compute the mean-pooled representation across tokens, resulting in a fixed-length vector that captures sequence-level information about the antibody.\n"
   ]
  },
  {
   "cell_type": "code",
   "execution_count": 17,
   "id": "8f41d0e6",
   "metadata": {},
   "outputs": [
    {
     "data": {
      "application/vnd.jupyter.widget-view+json": {
       "model_id": "baa1f912dbe54d85b0cc8a5fba9b5660",
       "version_major": 2,
       "version_minor": 0
      },
      "text/plain": [
       "  0%|          | 0/16 [00:00<?, ?it/s]"
      ]
     },
     "metadata": {},
     "output_type": "display_data"
    }
   ],
   "source": [
    "# Load model\n",
    "device = torch.device(\"cuda\" if torch.cuda.is_available() else \"cpu\")\n",
    "model = AutoModelForCausalLM.from_pretrained(model_name).to(device)\n",
    "\n",
    "# Takes about 60 seconds for 242 sequences on my CPU, and 1.1s on GPU\n",
    "batch_size = 16\n",
    "mean_pooled_embeddings = []\n",
    "for i in tqdm(range(0, len(sequences), batch_size)):\n",
    "    batch = tokenizer(sequences[i:i+batch_size], return_tensors=\"pt\", padding=True, truncation=True)\n",
    "    outputs = model(batch[\"input_ids\"].to(device), return_rep_layers=[-1], output_hidden_states=True)\n",
    "    embeddings = outputs[\"hidden_states\"][-1].detach().cpu().numpy()\n",
    "    mean_pooled_embeddings.append(embeddings.mean(axis=1))\n",
    "mean_pooled_embeddings = np.concatenate(mean_pooled_embeddings)"
   ]
  },
  {
   "cell_type": "markdown",
   "id": "c4522c30",
   "metadata": {},
   "source": [
    "With embeddings as features (`X`) and the chosen assay measurement as the target (`y`), we split the data into training and test sets. A ridge regression model is fit on the training set, providing a straightforward baseline to evaluate how informative p-IgGen embeddings are for predicting antibody developability properties."
   ]
  },
  {
   "cell_type": "code",
   "execution_count": 18,
   "id": "7ea4ae3f",
   "metadata": {},
   "outputs": [],
   "source": [
    "# Train a linear regression on these\n",
    "X = mean_pooled_embeddings\n",
    "y = df[target].values\n",
    "\n",
    "X_train, X_test, y_train, y_test = train_test_split(X, y, test_size=0.2, random_state=42)\n",
    "\n",
    "lm = Ridge()\n",
    "lm.fit(X_train, y_train)\n",
    "\n",
    "y_pred = lm.predict(X_test)"
   ]
  },
  {
   "cell_type": "markdown",
   "id": "b9ba602b",
   "metadata": {},
   "source": [
    "We evaluate the model using **Spearman’s rank correlation** between predicted and true assay values, which is more robust than linear correlation when the relationship is non-linear. Finally, we visualize predictions against ground truth in a scatter plot to assess how well the model generalizes. \n",
    "\n",
    "We get approximately `0.41` Spearman correlation using these embeddings with linear regression to predict `HIC`."
   ]
  },
  {
   "cell_type": "code",
   "execution_count": 19,
   "id": "d75b5ad3",
   "metadata": {},
   "outputs": [
    {
     "name": "stdout",
     "output_type": "stream",
     "text": [
      "SignificanceResult(statistic=np.float64(0.41341124897148246), pvalue=np.float64(0.0031521527808128337))\n"
     ]
    },
    {
     "data": {
      "image/png": "[encoded data removed]",
      "text/plain": [
       "<Figure size 640x480 with 1 Axes>"
      ]
     },
     "metadata": {},
     "output_type": "display_data"
    }
   ],
   "source": [
    "# Calculate score\n",
    "print(spearmanr(y_pred, y_test))\n",
    "\n",
    "sns.scatterplot(x=y_test, y=y_pred)\n",
    "plt.title(f\"Scatter plot of predicted vs. true {target}\\nSpearman's rho: {spearmanr(y_pred, y_test)[0]:.2f}\")\n",
    "plt.xlabel(f\"True {target}\")\n",
    "plt.ylabel(f\"Predicted {target}\")\n",
    "plt.show()"
   ]
  },
  {
   "cell_type": "markdown",
   "id": "bfc89cdd",
   "metadata": {},
   "source": [
    "## Cross-Validation with Isotype-Stratified Folds\n",
    "\n",
    "In our previous experiment, we allowed the training and test sets to be randomly generated. The problem with this is that there may be near-identical antibodies split between training and test, essentially creating label leakage. To understand how our model behaves when presented with totally new antibodies, we want to evaluate our regressor with **cluster + isotype-aware\n",
    "cross-validation**.\n",
    "\n",
    "Each fold holds out **entire sequence clusters (but still containing a mix of different IgG subclasses)**, so the model is tested on *novel* families rather than near-duplicates. Below, we reuse the previously computed embeddings and our target `y`, but we use the pre-computed fold assignment in `df['hierarchical_cluster_IgG_isotype_stratified_fold']` to define train/test splits. Now, we train fresh `Ridge` models on each training split and evaluate with Spearman correlation on the held-out fold."
   ]
  },
  {
   "cell_type": "code",
   "execution_count": 22,
   "id": "5293d9a3",
   "metadata": {},
   "outputs": [
    {
     "name": "stdout",
     "output_type": "stream",
     "text": [
      "Averaged CV Spearman:\t0.3241\n"
     ]
    },
    {
     "data": {
      "image/png": "[encoded data removed]",
      "text/plain": [
       "<Figure size 640x480 with 1 Axes>"
      ]
     },
     "metadata": {},
     "output_type": "display_data"
    }
   ],
   "source": [
    "fold_col = \"hierarchical_cluster_IgG_isotype_stratified_fold\"\n",
    "X = mean_pooled_embeddings\n",
    "y = df[target].to_numpy(dtype=float)\n",
    "\n",
    "# sanity check\n",
    "assert len(X) == len(df) == len(y)\n",
    "\n",
    "fold_values = df[fold_col].to_numpy()\n",
    "unique_folds = [f for f in np.unique(fold_values) if f == f]  # drop NaN\n",
    "\n",
    "per_fold_stats = []\n",
    "y_pred_all = np.full(len(df), np.nan)   # align with df rows\n",
    "y_true_all = np.full(len(df), np.nan)   # optional, for plotting/metrics\n",
    "\n",
    "for f in unique_folds:\n",
    "    test_idx = np.where(fold_values == f)[0]\n",
    "    train_idx = np.where(fold_values != f)[0]\n",
    "\n",
    "    X_train, y_train = X[train_idx], y[train_idx]\n",
    "    X_test,  y_test  = X[test_idx],  y[test_idx]\n",
    "\n",
    "    lm = Ridge()\n",
    "    lm.fit(X_train, y_train)\n",
    "    y_pred = lm.predict(X_test)\n",
    "\n",
    "    # write back into the positions of df\n",
    "    y_pred_all[test_idx] = y_pred\n",
    "    y_true_all[test_idx] = y_test\n",
    "\n",
    "    rho = spearmanr(y_test, y_pred).statistic\n",
    "    per_fold_stats.append((int(f), rho, len(y_test)))\n",
    "\n",
    "# Overall metric across all rows that participated in CV\n",
    "mask = ~np.isnan(y_true_all)\n",
    "overall_rho = spearmanr(y_true_all[mask], y_pred_all[mask]).statistic\n",
    "\n",
    "print(f\"Averaged CV Spearman:\\t{overall_rho:.4f}\")\n",
    "\n",
    "plt.figure()\n",
    "plt.scatter(y_true_all[mask], y_pred_all[mask], alpha=0.7)\n",
    "plt.title(f\"Ridge CV over {fold_col}\\nOverall Spearman: {overall_rho:.3f}\")\n",
    "plt.xlabel(f\"True {target}\")\n",
    "plt.ylabel(f\"Predicted {target}\")\n",
    "plt.show()"
   ]
  },
  {
   "cell_type": "markdown",
   "id": "91cde411",
   "metadata": {},
   "source": [
    "This gives us a Spearman correlation of about `0.324` for predicting `HIC` with a ridge regression model - a bit lower than when we used the random split, but this gives us a *more realistic* estimate of how well our model will generalize to new antibodies in the test set.\n",
    "\n",
    "Now, to submit these predictions to the leaderboard, we write out to CSV:\n"
   ]
  },
  {
   "cell_type": "code",
   "execution_count": 23,
   "id": "c9f2074c",
   "metadata": {},
   "outputs": [],
   "source": [
    "GDPa_submission_CV  =  df[['antibody_name', 'vh_protein_sequence', 'vl_protein_sequence', 'hierarchical_cluster_IgG_isotype_stratified_fold']].copy()\n",
    "GDPa_submission_CV[target] =  y_pred_all\n",
    "GDPa_submission_CV.to_csv('gpda_cv_submission.csv', index=False)"
   ]
  },
  {
   "cell_type": "markdown",
   "id": "26ea8663",
   "metadata": {},
   "source": [
    "## Using the model to submit test set predictions\n",
    "\n",
    "Finally, we'd like to use this model to submit predictions on the test set. You can download the test set from the leaderboard and make embeddings as we did before:"
   ]
  },
  {
   "cell_type": "code",
   "execution_count": 25,
   "id": "342caed8",
   "metadata": {},
   "outputs": [
    {
     "data": {
      "application/vnd.jupyter.widget-view+json": {
       "model_id": "8b752ca4bc0247ee9b15560501051d36",
       "version_major": 2,
       "version_minor": 0
      },
      "text/plain": [
       "  0%|          | 0/5 [00:00<?, ?it/s]"
      ]
     },
     "metadata": {},
     "output_type": "display_data"
    }
   ],
   "source": [
    "# load from csv\n",
    "testset_df  =  pd.read_csv('heldout-set-sequences.csv')\n",
    "\n",
    "# make sequences\n",
    "testset_sequences = [\n",
    "    \"1\" + \" \".join(heavy) + \" \".join(light) + \"2\"\n",
    "    for heavy, light in zip(\n",
    "        testset_df[\"vh_protein_sequence\"],\n",
    "        testset_df[\"vl_protein_sequence\"],\n",
    "    )\n",
    "]\n",
    "\n",
    "# make embeddings\n",
    "testset_embeddings = []\n",
    "for i in tqdm(range(0, len(testset_sequences), batch_size)):\n",
    "    batch = tokenizer(\n",
    "        testset_sequences[i:i+batch_size],\n",
    "        return_tensors=\"pt\",\n",
    "        padding=True,\n",
    "        truncation=True,\n",
    "    )\n",
    "    outputs = model(\n",
    "        batch[\"input_ids\"].to(device),\n",
    "        return_rep_layers=[-1],\n",
    "        output_hidden_states=True,\n",
    "    )\n",
    "    embeddings = outputs[\"hidden_states\"][-1].detach().cpu().numpy()\n",
    "    testset_embeddings.append(embeddings.mean(axis=1))\n",
    "\n",
    "testset_embeddings = np.concatenate(testset_embeddings)"
   ]
  },
  {
   "cell_type": "markdown",
   "id": "162eb06a",
   "metadata": {},
   "source": [
    "Then, we predict and write those predictions to CSV:\n"
   ]
  },
  {
   "cell_type": "code",
   "execution_count": 26,
   "id": "4cf5f342",
   "metadata": {},
   "outputs": [],
   "source": [
    "X  =  testset_embeddings\n",
    "testset_y  =  lm.predict(X)\n",
    "testset_submission  =  testset_df[['antibody_name', 'vh_protein_sequence', 'vl_protein_sequence']].copy()\n",
    "\n",
    "testset_submission[target] =  testset_y\n",
    "\n",
    "testset_submission.to_csv('testset_submission.csv', index=False)"
   ]
  },
  {
   "cell_type": "markdown",
   "id": "9a6ca33d",
   "metadata": {},
   "source": [
    "Once you submit, you should see your result on the public competition leaderboard like this:\n",
    "![image/png](https://cdn-uploads.huggingface.co/production/uploads/680ff4388f704be391757780/adTaFJo6UWEfw3t9N5Y8R.png)\n",
    "\n",
    "Submit your own predictions now at the Antibody Developability Competition site: https://huggingface.co/spaces/ginkgo-datapoints/abdev-leaderboard"
   ]
  },
  {
   "cell_type": "markdown",
   "id": "a5388722",
   "metadata": {},
   "source": []
  }
 ],
 "metadata": {
  "kernelspec": {
   "display_name": "abdev",
   "language": "python",
   "name": "python3"
  },
  "language_info": {
   "codemirror_mode": {
    "name": "ipython",
    "version": 3
   },
   "file_extension": ".py",
   "mimetype": "text/x-python",
   "name": "python",
   "nbconvert_exporter": "python",
   "pygments_lexer": "ipython3",
   "version": "3.11.13"
  }
 },
 "nbformat": 4,
 "nbformat_minor": 5
}
